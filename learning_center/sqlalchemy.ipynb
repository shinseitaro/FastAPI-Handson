{
 "cells": [
  {
   "cell_type": "markdown",
   "metadata": {},
   "source": [
    "## SQLAlchemy\n",
    "\n",
    "- [SQLAlchemy - The Database Toolkit for Python](https://www.sqlalchemy.org/)\n",
    "    - Database を python コードで操作することが出来るライブラリ\n",
    "- ORM Object Relational mpping\n",
    "    - データベースを仮想的なオブジェクトにして、オブジェクト言語から扱う事が出来るようにする技法\n",
    "    - SQLAlchemy は、Python のための ORM\n"
   ]
  },
  {
   "cell_type": "markdown",
   "metadata": {},
   "source": [
    "### DataBase\n",
    "- DataBase とは\n",
    "    - キチンと整理された形式で保存されているデータの集まりのこと\n",
    "    - そのようにデータを扱う事が出来るソフトウェアのこともデータベースと呼ぶことが多い\n",
    "- データベースの種類\n",
    "    - ![](./img/db.png)\n",
    "    - (出展：[データベースとは？基礎知識を初心者にわかりやすく解説！｜ITトレンド](https://it-trend.jp/database/article/89-0065#chapter-1))\n",
    "    - 今回使うのは RDB \n",
    "- Table とは\n",
    "    - エクセルでいうシート部分\n",
    "    - 項目とそのデータで構成されている\n",
    "- 作成する table について\n",
    "    - ![](./img/er.jpg)\n",
    "- 今回どうしてDatabaseを使う必要があるのか"
   ]
  },
  {
   "cell_type": "markdown",
   "metadata": {},
   "source": [
    "#### Engine\n",
    "- Database へ接続するためのオブジェクト\n",
    "- データベースへのパス、デバグのためのログ出力などの設定を行い、オブジェクトを作成する"
   ]
  },
  {
   "cell_type": "code",
   "execution_count": null,
   "metadata": {},
   "outputs": [],
   "source": [
    "# sqlite ファイルへのパス。sqlite:/// の後に相対パスを渡す\n",
    "DBFILE = \"sqlite:///./SQLtest.db\""
   ]
  },
  {
   "cell_type": "code",
   "execution_count": null,
   "metadata": {},
   "outputs": [],
   "source": [
    "# engine オブジェクトを作るためのメソッドをimport\n",
    "from sqlalchemy import create_engine\n"
   ]
  },
  {
   "cell_type": "code",
   "execution_count": null,
   "metadata": {},
   "outputs": [],
   "source": [
    "# engine オブジェクト作成\n",
    "engine = create_engine(\n",
    "    DBFILE, # db path \n",
    "    echo=True, # ログ出力\n",
    "    connect_args={\"check_same_thread\": False} # SQLiteだけでの設定\n",
    ")"
   ]
  },
  {
   "cell_type": "markdown",
   "metadata": {},
   "source": [
    "`check_same_thread` についてはこちら：\n",
    "[Threading/Pooling Behavior　SQLite — SQLAlchemy 1.4 Documentation](https://docs.sqlalchemy.org/en/14/dialects/sqlite.html?highlight=check_same_thread#threading-pooling-behavior)\n"
   ]
  },
  {
   "cell_type": "markdown",
   "metadata": {},
   "source": [
    "#### Session\n",
    "- ORM を使うときの基本的なトランザクション／データベース対話型オブジェクト\n",
    "- 実際のデータ転送の開始から終了まで\n",
    "- [sessionmaker](https://docs.sqlalchemy.org/en/14/orm/session_api.html?highlight=sessionmaker#sqlalchemy.orm.sessionmaker)"
   ]
  },
  {
   "cell_type": "code",
   "execution_count": null,
   "metadata": {},
   "outputs": [],
   "source": [
    "# session オブジェクトを作るために、 sessionmaker をインポート\n",
    "from sqlalchemy.orm import sessionmaker\n",
    "\n",
    "\n",
    "SessionLocal = sessionmaker(\n",
    "    bind=engine,     \n",
    "    autocommit=False, \n",
    "    autoflush=False, # クエリの結果を自動的に得る。CommitせずにDBへ反映させるために使う。使う時は autocommit = Falseにしておく\n",
    ")"
   ]
  },
  {
   "cell_type": "code",
   "execution_count": null,
   "metadata": {},
   "outputs": [],
   "source": [
    "# session を作るクラスが生成された\n",
    "type(SessionLocal)"
   ]
  },
  {
   "cell_type": "markdown",
   "metadata": {},
   "source": [
    "- [declarative_base()](https://docs.sqlalchemy.org/en/14/orm/mapping_api.html#sqlalchemy.orm.declarative_base)\n",
    "    - テーブルオブジェクトを作成ための基底クラスを構築するための関数\n",
    "    - できたクラスが、`metadata` というクラスを持ち、これにテーブルオブジェクトを追加してDBへのコミットを行えるようにする\n",
    "    - このクラスを継承してテーブルクラスを作成する"
   ]
  },
  {
   "cell_type": "code",
   "execution_count": null,
   "metadata": {},
   "outputs": [],
   "source": [
    "# declarative_base をインポート \n",
    "from sqlalchemy.ext.declarative import declarative_base\n",
    "\n",
    "# 慣習的に Base という名前でテーブルオブジェクトを作成\n",
    "Base = declarative_base()\n"
   ]
  },
  {
   "cell_type": "markdown",
   "metadata": {},
   "source": [
    "#### テーブルクラス作成\n",
    "\n",
    "![](./image/er.jpg)\n"
   ]
  },
  {
   "cell_type": "code",
   "execution_count": null,
   "metadata": {},
   "outputs": [],
   "source": [
    "from sqlalchemy import Column, String, Integer, ForeignKey\n",
    "from sqlalchemy.orm import relationship"
   ]
  },
  {
   "cell_type": "code",
   "execution_count": null,
   "metadata": {},
   "outputs": [],
   "source": [
    "class StatusCode(Base):\n",
    "    __tablename__ = \"statuscodes\"\n",
    "    id = Column(Integer, primary_key=True, index=True)\n",
    "    code = Column(Integer, unique=True) # unique であれば Foreignkeyでつなげられる\n",
    "    message = Column(String)\n",
    "\n",
    "    # Cat クラスの statuscode プロパティに関連付けることによって、\n",
    "    # StatusCode データオブジェクトを作った時に、\n",
    "    # cats 属性を通じて、紐付いているCat のデータにアクセス出来る\n",
    "    # 例えば、 status404.cats で、Cat 側が 外部キー(statuscodes.code) で紐づけているデータにアクセス出来る\n",
    "\n",
    "    cats = relationship(\"Cat\", back_populates=\"statuscode\")"
   ]
  },
  {
   "cell_type": "code",
   "execution_count": null,
   "metadata": {},
   "outputs": [],
   "source": [
    "class Cat(Base):\n",
    "    __tablename__ = \"cats\"\n",
    "    id = Column(Integer, primary_key=True, index=True)\n",
    "    filepath = Column(String)\n",
    "    message = Column(String)\n",
    "    code = Column(Integer, ForeignKey(\"statuscodes.code\"))\n",
    "\n",
    "    # Status クラスの cats プロパティに関連付けることによって、この属性(statuscode) を通じて、Status のデータに catデータオブジェクトからアクセス出来る\n",
    "    # 例えば、 a_cat という Catクラスのオブジェクトがあったとしたら、\n",
    "    # a_cat.statuscode で、外部キー(statuscodes.code) で紐づけられている Status のデータをリストで取得出来る\n",
    "    statuscode = relationship(\"StatusCode\", back_populates=\"cats\")\n"
   ]
  },
  {
   "cell_type": "markdown",
   "metadata": {},
   "source": [
    "#### relationship\n",
    "\n",
    "`relationship(\"関連付けたいクラス名文字列\", back_populates=\"関連先のプロパティ名文字列\")` \n",
    "\n"
   ]
  },
  {
   "cell_type": "markdown",
   "metadata": {},
   "source": [
    "#### DB設定とテーブルクラス作成の順番とまとめ\n",
    "\n",
    "1. DBシステム部分の作成\n",
    "    1. engine 作成 : DBへの接続担当\n",
    "    1. session 作成 : DB への問い合わせ担当\n",
    "1. テーブル作成\n",
    "    1. テーブルクラスを作るための関数 `declarative_base()` で基底テーブルクラス作成\n",
    "    1. 1 を継承して各テーブルを作成\n",
    "    1. relationship があれば定義\n",
    "1. 実際の接続\n",
    "    1. `Base.metadata.create_all(bind=engine)` "
   ]
  },
  {
   "cell_type": "code",
   "execution_count": null,
   "metadata": {},
   "outputs": [],
   "source": [
    "# データベース作成、接続、テーブル作成。\n",
    "# この部分を実行して初めてDBが作成される。engine 作成時に echo=True, にしているのでログが出力される\n",
    "Base.metadata.create_all(bind=engine)\n"
   ]
  },
  {
   "cell_type": "markdown",
   "metadata": {},
   "source": [
    "#### Transaction\n",
    "- クエリなど1件ずつの問い合わせのこと\n",
    "- 上記のログでいえば↑の一行がトランザクション\n"
   ]
  },
  {
   "cell_type": "markdown",
   "metadata": {},
   "source": [
    "#### DB Browser for SQL で確認\n"
   ]
  },
  {
   "cell_type": "markdown",
   "metadata": {},
   "source": [
    "### Data Insert\n",
    "\n",
    "1. セッションオブジェクト `db` 作成 (セッションだけど、データベースとのやり取りに使うので、変数名は `db` がよく使われる。`session` もよく見る)\n",
    "1. table data でデータオブジェクト `obj` を作成\n",
    "1. `db.add(obj)` で追加。（**クエリに追加しただけ**でDBへのインサートはまだ行われない）\n",
    "1. `db.commit()` でDBに初めて追加される\n",
    "1. `db.refresh(obj)` で obj へ SELECT されたデータが入る（←かなり肝）\n"
   ]
  },
  {
   "cell_type": "code",
   "execution_count": null,
   "metadata": {},
   "outputs": [],
   "source": [
    "# 上記で生成した、SessionLocal クラスを使って、Sessionオブジェクトを作成\n",
    "db = SessionLocal()"
   ]
  },
  {
   "cell_type": "code",
   "execution_count": null,
   "metadata": {},
   "outputs": [],
   "source": [
    "# データオブジェクト作成\n",
    "# id は primary key なので、DBで連番が自動で割り振られるので渡さない\n",
    "status_404 = StatusCode(code=404, message=\"Not Found\")\n",
    "status_200 = StatusCode(code=200, message=\"OK\")\n"
   ]
  },
  {
   "cell_type": "code",
   "execution_count": null,
   "metadata": {},
   "outputs": [],
   "source": [
    "# クエリを追加\n",
    "db.add(status_404)\n",
    "db.add(status_200)\n"
   ]
  },
  {
   "cell_type": "code",
   "execution_count": null,
   "metadata": {},
   "outputs": [],
   "source": [
    "# DBへデータをInsert\n",
    "db.commit() "
   ]
  },
  {
   "cell_type": "code",
   "execution_count": null,
   "metadata": {},
   "outputs": [],
   "source": [
    "# マジック部分。\n",
    "# refresh すると、SELECT 文が走って、データをDBからフェッチし、テーブルオブジェクトに反映される。\n",
    "db.refresh(status_404)\n",
    "db.refresh(status_200)\n",
    "\n",
    "# status_404.id "
   ]
  },
  {
   "cell_type": "code",
   "execution_count": null,
   "metadata": {},
   "outputs": [],
   "source": [
    "# Selectして取ってきたデータを確認。IDも得た\n",
    "status_404.__dict__\n"
   ]
  },
  {
   "cell_type": "markdown",
   "metadata": {},
   "source": [
    "- 演習: 以下のデータで cat table object を作ってDBへ挿入して下さい（メッセージ部分は好きに変えていいですよ）\n",
    "    1.  code 200 / message \"やったね！\" / filapth \"https://3.bp.blogspot.com/-IzBBa1iaxGc/XLQNJ_ysffI/AAAAAAABSbw/hgX31eDYY6QX5btrmZTNuMDm9JQL8B1ygCLcBGAs/s180-c/uchidenokoduchi_eto13_neko.png\"\n",
    "    1. code 400 / message \"てへぺろ\" / filepath \"https://1.bp.blogspot.com/-d2MVqvUmxM0/V4SBCnW0-_I/AAAAAAAA8Qk/PZx69vFKAVgiAAOZzbeBWQC2erUmRdKoACLcB/s180-c/pet_tehe_cat.png\"\n"
   ]
  },
  {
   "cell_type": "code",
   "execution_count": null,
   "metadata": {},
   "outputs": [],
   "source": [
    "# cat\n",
    "cat_200 = Cat(\n",
    "    filepath=\"https://3.bp.blogspot.com/-IzBBa1iaxGc/XLQNJ_ysffI/AAAAAAABSbw/hgX31eDYY6QX5btrmZTNuMDm9JQL8B1ygCLcBGAs/s180-c/uchidenokoduchi_eto13_neko.png\", \n",
    "    message=\"やったね\", \n",
    "    code=200)\n",
    "\n",
    "cat_404 = Cat(\n",
    "    filepath=\"https://1.bp.blogspot.com/-d2MVqvUmxM0/V4SBCnW0-_I/AAAAAAAA8Qk/PZx69vFKAVgiAAOZzbeBWQC2erUmRdKoACLcB/s180-c/pet_tehe_cat.png\", \n",
    "    message=\"てへぺろ\", \n",
    "    code=404)"
   ]
  },
  {
   "cell_type": "code",
   "execution_count": null,
   "metadata": {},
   "outputs": [],
   "source": [
    "db.add(cat_200)\n",
    "db.add(cat_404)\n",
    "db.commit()\n",
    "db.refresh(cat_200)\n",
    "db.refresh(cat_404)"
   ]
  },
  {
   "cell_type": "markdown",
   "metadata": {},
   "source": [
    "### SELECT\n",
    "\n",
    "セッションオブジェクト (`db`) が持つ、`.query()` メソッドを使います\n",
    "\n",
    "1. db.query(`テーブルクラス`) で `sqlalchemy.orm.query.Query` オブジェクトを得る\n",
    "1. query オブジェクトが持つメソッドでデータを得る\n",
    "\n",
    "- [Query API — SQLAlchemy 1.4 Documentation](https://docs.sqlalchemy.org/en/14/orm/query.html?highlight=query#sqlalchemy.orm.Query)\n"
   ]
  },
  {
   "cell_type": "code",
   "execution_count": null,
   "metadata": {},
   "outputs": [],
   "source": [
    "type(db.query(StatusCode))\n"
   ]
  },
  {
   "cell_type": "code",
   "execution_count": null,
   "metadata": {},
   "outputs": [],
   "source": [
    "# .all() メソッドで、StatusCodeテーブルに入っている全データの1つずつを query object として、リストで得る\n",
    "all_status = db.query(StatusCode).all()\n"
   ]
  },
  {
   "cell_type": "code",
   "execution_count": null,
   "metadata": {},
   "outputs": [],
   "source": [
    "# コラム名でデータを取得可\n",
    "for status in all_status:\n",
    "    print(status.id, status.code, status.message)\n",
    "\n"
   ]
  },
  {
   "cell_type": "code",
   "execution_count": null,
   "metadata": {},
   "outputs": [],
   "source": [
    "cats = db.query(Cat).all()\n",
    "for cat in cats:\n",
    "    print(cat.id, cat.code, cat.message, cat.filepath)\n"
   ]
  },
  {
   "cell_type": "markdown",
   "metadata": {},
   "source": [
    "### SELECT by ID \n",
    "\n",
    "- queryオブジェクトが持つ `.get()` メソッド で primary key を指定してデータを取得出来ます\n",
    "- [method sqlalchemy.orm.Query.get](https://docs.sqlalchemy.org/en/14/orm/query.html?highlight=query#sqlalchemy.orm.Query.get)"
   ]
  },
  {
   "cell_type": "code",
   "execution_count": null,
   "metadata": {},
   "outputs": [],
   "source": [
    "a_cat = db.query(Cat).get(1)\n",
    "print(a_cat, a_cat.id)"
   ]
  },
  {
   "cell_type": "markdown",
   "metadata": {},
   "source": [
    "### SELECT with filter \n",
    "\n",
    "`SELECT * FROM cats WHERE ~~~ ` のような条件クエリは queryオブジェクトが持つ `filter()` メソッドを使います\n",
    "\n",
    "- db.query(`テーブル名`).filter(`テーブル名.プロパティ` == ?)\n",
    "- これでクエリオブジェクトが返る"
   ]
  },
  {
   "cell_type": "code",
   "execution_count": null,
   "metadata": {},
   "outputs": [],
   "source": [
    "cat_filted_by_404 = db.query(Cat).filter(Cat.code == 404)\n",
    "type(cat_filted_by_404)"
   ]
  },
  {
   "cell_type": "code",
   "execution_count": null,
   "metadata": {},
   "outputs": [],
   "source": [
    "# 最初の結果だけ得たい場合は、 first() メソッドを使う\n",
    "a_cat = cat_filted_by_404.first()\n",
    "print(a_cat.id, a_cat.message)"
   ]
  },
  {
   "cell_type": "markdown",
   "metadata": {},
   "source": [
    "### UPDATE\n",
    "- query オブジェクトで得たデータを直接書き換えたあと、session を commit する"
   ]
  },
  {
   "cell_type": "code",
   "execution_count": null,
   "metadata": {},
   "outputs": [],
   "source": [
    "# .first() まで一度に書くのもあり\n",
    "cat_filted_by_404 = db.query(Cat).filter(Cat.code == 404).first()\n",
    "cat_filted_by_404.message = \"やっちゃったてへぺろ\"\n",
    "db.commit()\n",
    "db.refresh(cat_filted_by_404)\n",
    "\n",
    "print(cat_filted_by_404.id, cat_filted_by_404.message)\n"
   ]
  },
  {
   "cell_type": "markdown",
   "metadata": {},
   "source": [
    "### Relation\n",
    "\n",
    "Cat テーブル定義で、`\"statuscodes.code\"` へ外部キーを貼ることで、StatusCode の code を参照しています。\n",
    "\n",
    "この状態で、`relationship` をお互いに張っているので、当該プロパティから、相手側のデータにアクセス出来ます\n",
    "\n",
    "```python\n",
    "\n",
    "class StatusCode(Base):\n",
    "    __tablename__ = \"statuscodes\"\n",
    "    # (略)\n",
    "    cats = relationship(\"Cat\", back_populates=\"statuscode\")\n",
    "\n",
    "class Cat(Base):\n",
    "    __tablename__ = \"cats\"\n",
    "    # (略)\n",
    "    code = Column(Integer, ForeignKey(\"statuscodes.code\"))\n",
    "    statuscode = relationship(\"StatusCode\", back_populates=\"cats\")\n",
    "```\n"
   ]
  },
  {
   "cell_type": "code",
   "execution_count": null,
   "metadata": {},
   "outputs": [],
   "source": [
    "# 200番のステイタスデータを取得\n",
    "status_200 = db.query(StatusCode).filter(StatusCode.code == 200).first()\n"
   ]
  },
  {
   "cell_type": "code",
   "execution_count": null,
   "metadata": {},
   "outputs": [],
   "source": [
    "# このクエリオブジェクトは、cats プロパティを通じて、200番の `code` を持つ cat データにアクセス可\n",
    "status_200.cats\n"
   ]
  },
  {
   "cell_type": "code",
   "execution_count": null,
   "metadata": {},
   "outputs": [],
   "source": [
    "# 200番 cat を追加でインサート\n",
    "new_cat_200 = Cat(\n",
    "    filepath=\"http://2.bp.blogspot.com/-5RqOJ4QvbXo/VEETRWSWxKI/AAAAAAAAocY/OAMZmQl4DPA/s180-c/cat_matatabi.png\", \n",
    "    message=\"追加の200番キャットです\", \n",
    "    code=200)\n",
    "\n",
    "db.add(new_cat_200)\n",
    "db.commit()\n"
   ]
  },
  {
   "cell_type": "code",
   "execution_count": null,
   "metadata": {},
   "outputs": [],
   "source": [
    "# statuscode オブジェクトの .cats メソッドを確認。ちゃんと1匹増えました\n",
    "status_200.cats"
   ]
  },
  {
   "cell_type": "code",
   "execution_count": null,
   "metadata": {},
   "outputs": [],
   "source": [
    "for cat in status_200.cats:\n",
    "    print (cat.code, cat.message)"
   ]
  },
  {
   "cell_type": "code",
   "execution_count": null,
   "metadata": {},
   "outputs": [],
   "source": []
  }
 ],
 "metadata": {
  "kernelspec": {
   "display_name": "Python 3.9.7 ('.venv': venv)",
   "language": "python",
   "name": "python3"
  },
  "language_info": {
   "codemirror_mode": {
    "name": "ipython",
    "version": 3
   },
   "file_extension": ".py",
   "mimetype": "text/x-python",
   "name": "python",
   "nbconvert_exporter": "python",
   "pygments_lexer": "ipython3",
   "version": "3.9.7"
  },
  "orig_nbformat": 4,
  "vscode": {
   "interpreter": {
    "hash": "a8bd48114c15e1215eaa195b87f5778b7489997a57ad37ddc76a27b48b5416fa"
   }
  }
 },
 "nbformat": 4,
 "nbformat_minor": 2
}
