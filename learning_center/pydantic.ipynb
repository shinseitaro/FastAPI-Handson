{
 "cells": [
  {
   "cell_type": "markdown",
   "metadata": {},
   "source": [
    "### Pydantic とは\n",
    "\n",
    "- python 3.6 から、「型アノテーション」という機能が追加されました。\n",
    "- この 型アノテーション を利用して、型ヒントの提供や、型の確認や検証を行ってくれる機能などを提供してくれるのが [pydantic](https://pydantic-docs.helpmanual.io/) です。\n",
    "- 今年の pycon でも pydantic について触れるプロポーザルが採用されていました。結構アツいライブラリみたいです。\n"
   ]
  },
  {
   "cell_type": "markdown",
   "metadata": {},
   "source": [
    "#### python の型アノテーション\n",
    "- 関数定義や変数作成時に、 `: 型` を追記\n",
    "- editor によっては、コードを記述したタイミングで間違いを指摘してくれる"
   ]
  },
  {
   "cell_type": "code",
   "execution_count": 1,
   "metadata": {},
   "outputs": [],
   "source": [
    "name1 = \"taro\"\n",
    "name2 : str = \"taro\""
   ]
  },
  {
   "cell_type": "code",
   "execution_count": 2,
   "metadata": {},
   "outputs": [],
   "source": [
    "def add(a, b):\n",
    "    return a + b\n",
    "\n",
    "def add_type(a: int, b: int) -> int:\n",
    "    return a + b\n"
   ]
  },
  {
   "cell_type": "code",
   "execution_count": 3,
   "metadata": {},
   "outputs": [
    {
     "data": {
      "text/plain": [
       "'12'"
      ]
     },
     "execution_count": 3,
     "metadata": {},
     "output_type": "execute_result"
    }
   ],
   "source": [
    "add('1', '2')\n",
    "# 実行する前から引数の型がおかしいことを指摘\n",
    "add_type('1', '2')"
   ]
  },
  {
   "cell_type": "markdown",
   "metadata": {},
   "source": [
    "### Pydantic \n",
    "\n",
    "1. `BaseModel` を継承して、pydantic モデルクラスを作成\n",
    "    - `フィールド名: 型` で定義\n",
    "    - 型は `typing` や pydanticが独自に定義している型を使う \n",
    "    - [typing Python 3.10.4 ドキュメント](https://docs.python.org/ja/3/library/typing.html)\n",
    "    - [Field Types - pydantic](https://pydantic-docs.helpmanual.io/usage/types/#pydantic-types)\n",
    "1. このクラスにデータを入れてオブジェクト化して使う\n"
   ]
  },
  {
   "cell_type": "code",
   "execution_count": 4,
   "metadata": {},
   "outputs": [],
   "source": [
    "%load_ext blackcellmagic"
   ]
  },
  {
   "cell_type": "code",
   "execution_count": 5,
   "metadata": {},
   "outputs": [],
   "source": [
    "# BaseModel を import\n",
    "from pydantic import BaseModel\n"
   ]
  },
  {
   "cell_type": "code",
   "execution_count": 6,
   "metadata": {},
   "outputs": [],
   "source": [
    "from pydantic import HttpUrl\n",
    "\n",
    "class Cat(BaseModel): # 継承\n",
    "    id : int\n",
    "    message: str \n",
    "    code: int \n",
    "    filepath: HttpUrl\n"
   ]
  },
  {
   "cell_type": "code",
   "execution_count": 7,
   "metadata": {},
   "outputs": [],
   "source": [
    "# データを入れて pydantic オブジェクトを作成\n",
    "cat_1 = Cat(\n",
    "    id=1,\n",
    "    message=\"やったね\",\n",
    "    code=200,\n",
    "    filepath=\"https://3.bp.blogspot.com/-IzBBa1iaxGc/XLQNJ_ysffI/AAAAAAABSbw/hgX31eDYY6QX5btrmZTNuMDm9JQL8B1ygCLcBGAs/s180-c/uchidenokoduchi_eto13_neko.png\",\n",
    ")\n",
    "\n",
    "# 辞書渡しでもOK。\n",
    "d = {\n",
    "    \"id\": 2,\n",
    "    \"message\": \"てへぺろ\",\n",
    "    \"code\": 404,\n",
    "    \"filepath\": \"https://1.bp.blogspot.com/-d2MVqvUmxM0/V4SBCnW0-_I/AAAAAAAA8Qk/PZx69vFKAVgiAAOZzbeBWQC2erUmRdKoACLcB/s180-c/pet_tehe_cat.png\",\n",
    "}\n",
    "cat_2 = Cat(**d)"
   ]
  },
  {
   "cell_type": "code",
   "execution_count": 8,
   "metadata": {},
   "outputs": [
    {
     "name": "stdout",
     "output_type": "stream",
     "text": [
      "['Config', '__abstractmethods__', '__annotations__', '__class__', '__class_vars__', '__config__', '__custom_root_type__', '__delattr__', '__dict__', '__dir__', '__doc__', '__eq__', '__exclude_fields__', '__fields__', '__fields_set__', '__format__', '__ge__', '__get_validators__', '__getattribute__', '__getstate__', '__gt__', '__hash__', '__include_fields__', '__init__', '__init_subclass__', '__iter__', '__json_encoder__', '__le__', '__lt__', '__module__', '__ne__', '__new__', '__post_root_validators__', '__pre_root_validators__', '__pretty__', '__private_attributes__', '__reduce__', '__reduce_ex__', '__repr__', '__repr_args__', '__repr_name__', '__repr_str__', '__schema_cache__', '__setattr__', '__setstate__', '__signature__', '__sizeof__', '__slots__', '__str__', '__subclasshook__', '__try_update_forward_refs__', '__validators__', '_abc_impl', '_calculate_keys', '_copy_and_set_values', '_decompose_class', '_enforce_dict_if_root', '_get_value', '_init_private_attributes', '_iter', 'code', 'construct', 'copy', 'dict', 'filepath', 'from_orm', 'id', 'json', 'message', 'parse_file', 'parse_obj', 'parse_raw', 'schema', 'schema_json', 'update_forward_refs', 'validate']\n"
     ]
    }
   ],
   "source": [
    "# 便利なメソッドがたくさん用意されている\n",
    "print(dir(cat_1))\n",
    "\n"
   ]
  },
  {
   "cell_type": "code",
   "execution_count": 9,
   "metadata": {},
   "outputs": [
    {
     "data": {
      "text/plain": [
       "'やったね'"
      ]
     },
     "execution_count": 9,
     "metadata": {},
     "output_type": "execute_result"
    }
   ],
   "source": [
    "# データへアクセス\n",
    "cat_1.message"
   ]
  },
  {
   "cell_type": "code",
   "execution_count": 10,
   "metadata": {},
   "outputs": [
    {
     "data": {
      "text/plain": [
       "{'id': 2,\n",
       " 'message': 'てへぺろ',\n",
       " 'code': 404,\n",
       " 'filepath': HttpUrl('https://1.bp.blogspot.com/-d2MVqvUmxM0/V4SBCnW0-_I/AAAAAAAA8Qk/PZx69vFKAVgiAAOZzbeBWQC2erUmRdKoACLcB/s180-c/pet_tehe_cat.png', scheme='https', host='1.bp.blogspot.com', tld='com', host_type='domain', port='443', path='/-d2MVqvUmxM0/V4SBCnW0-_I/AAAAAAAA8Qk/PZx69vFKAVgiAAOZzbeBWQC2erUmRdKoACLcB/s180-c/pet_tehe_cat.png')}"
      ]
     },
     "execution_count": 10,
     "metadata": {},
     "output_type": "execute_result"
    }
   ],
   "source": [
    "cat_2.dict()"
   ]
  },
  {
   "cell_type": "code",
   "execution_count": 11,
   "metadata": {},
   "outputs": [
    {
     "data": {
      "text/plain": [
       "'{\"id\": 2, \"message\": \"\\\\u3066\\\\u3078\\\\u307a\\\\u308d\", \"code\": 404, \"filepath\": \"https://1.bp.blogspot.com/-d2MVqvUmxM0/V4SBCnW0-_I/AAAAAAAA8Qk/PZx69vFKAVgiAAOZzbeBWQC2erUmRdKoACLcB/s180-c/pet_tehe_cat.png\"}'"
      ]
     },
     "execution_count": 11,
     "metadata": {},
     "output_type": "execute_result"
    }
   ],
   "source": [
    "cat_2.json()"
   ]
  },
  {
   "cell_type": "code",
   "execution_count": 12,
   "metadata": {},
   "outputs": [
    {
     "ename": "ValidationError",
     "evalue": "1 validation error for Cat\nfilepath\n  ensure this value has at least 1 characters (type=value_error.any_str.min_length; limit_value=1)",
     "output_type": "error",
     "traceback": [
      "\u001b[0;31m---------------------------------------------------------------------------\u001b[0m",
      "\u001b[0;31mValidationError\u001b[0m                           Traceback (most recent call last)",
      "\u001b[1;32mセル15 を /home/shinseitaro/workspace/github/finpy/HTTP-CAT/http-status-cats-clone-backend/lerning_centre/pydantic.ipynb\u001b[0m in \u001b[0;36m<cell line: 8>\u001b[0;34m()\u001b[0m\n\u001b[1;32m      <a href='vscode-notebook-cell:/home/shinseitaro/workspace/github/finpy/HTTP-CAT/http-status-cats-clone-backend/lerning_centre/pydantic.ipynb#ch0000014?line=0'>1</a>\u001b[0m \u001b[39m# 型チェック。フレンドリーな例外を返してくれる\u001b[39;00m\n\u001b[1;32m      <a href='vscode-notebook-cell:/home/shinseitaro/workspace/github/finpy/HTTP-CAT/http-status-cats-clone-backend/lerning_centre/pydantic.ipynb#ch0000014?line=1'>2</a>\u001b[0m d \u001b[39m=\u001b[39m {\n\u001b[1;32m      <a href='vscode-notebook-cell:/home/shinseitaro/workspace/github/finpy/HTTP-CAT/http-status-cats-clone-backend/lerning_centre/pydantic.ipynb#ch0000014?line=2'>3</a>\u001b[0m     \u001b[39m\"\u001b[39m\u001b[39mid\u001b[39m\u001b[39m\"\u001b[39m: \u001b[39m2\u001b[39m,\n\u001b[1;32m      <a href='vscode-notebook-cell:/home/shinseitaro/workspace/github/finpy/HTTP-CAT/http-status-cats-clone-backend/lerning_centre/pydantic.ipynb#ch0000014?line=3'>4</a>\u001b[0m     \u001b[39m\"\u001b[39m\u001b[39mmessage\u001b[39m\u001b[39m\"\u001b[39m: \u001b[39m\"\u001b[39m\u001b[39mてへぺろ\u001b[39m\u001b[39m\"\u001b[39m,\n\u001b[1;32m      <a href='vscode-notebook-cell:/home/shinseitaro/workspace/github/finpy/HTTP-CAT/http-status-cats-clone-backend/lerning_centre/pydantic.ipynb#ch0000014?line=4'>5</a>\u001b[0m     \u001b[39m\"\u001b[39m\u001b[39mcode\u001b[39m\u001b[39m\"\u001b[39m: \u001b[39m404\u001b[39m,\n\u001b[1;32m      <a href='vscode-notebook-cell:/home/shinseitaro/workspace/github/finpy/HTTP-CAT/http-status-cats-clone-backend/lerning_centre/pydantic.ipynb#ch0000014?line=5'>6</a>\u001b[0m     \u001b[39m\"\u001b[39m\u001b[39mfilepath\u001b[39m\u001b[39m\"\u001b[39m: \u001b[39m\"\u001b[39m\u001b[39m\"\u001b[39m,\n\u001b[1;32m      <a href='vscode-notebook-cell:/home/shinseitaro/workspace/github/finpy/HTTP-CAT/http-status-cats-clone-backend/lerning_centre/pydantic.ipynb#ch0000014?line=6'>7</a>\u001b[0m }\n\u001b[0;32m----> <a href='vscode-notebook-cell:/home/shinseitaro/workspace/github/finpy/HTTP-CAT/http-status-cats-clone-backend/lerning_centre/pydantic.ipynb#ch0000014?line=7'>8</a>\u001b[0m Cat(\u001b[39m*\u001b[39;49m\u001b[39m*\u001b[39;49md)\n",
      "File \u001b[0;32m~/workspace/github/finpy/HTTP-CAT/http-status-cats-clone-backend/.venv/lib/python3.8/site-packages/pydantic/main.py:341\u001b[0m, in \u001b[0;36mpydantic.main.BaseModel.__init__\u001b[0;34m()\u001b[0m\n",
      "\u001b[0;31mValidationError\u001b[0m: 1 validation error for Cat\nfilepath\n  ensure this value has at least 1 characters (type=value_error.any_str.min_length; limit_value=1)"
     ]
    }
   ],
   "source": [
    "# 型チェック。フレンドリーな例外を返してくれる\n",
    "d = {\n",
    "    \"id\": 2,\n",
    "    \"message\": \"てへぺろ\",\n",
    "    \"code\": 404,\n",
    "    \"filepath\": \"\",\n",
    "}\n",
    "Cat(**d)"
   ]
  },
  {
   "cell_type": "code",
   "execution_count": 15,
   "metadata": {},
   "outputs": [
    {
     "name": "stdout",
     "output_type": "stream",
     "text": [
      "[\n",
      "  {\n",
      "    \"loc\": [\n",
      "      \"filepath\"\n",
      "    ],\n",
      "    \"msg\": \"ensure this value has at least 1 characters\",\n",
      "    \"type\": \"value_error.any_str.min_length\",\n",
      "    \"ctx\": {\n",
      "      \"limit_value\": 1\n",
      "    }\n",
      "  }\n",
      "]\n"
     ]
    }
   ],
   "source": [
    "# ValidationError クラスを使うと、例外を json で取得可\n",
    "from pydantic import ValidationError\n",
    "try:\n",
    "    Cat(**d)\n",
    "except ValidationError as e:\n",
    "    print(e.json())"
   ]
  },
  {
   "cell_type": "code",
   "execution_count": 16,
   "metadata": {},
   "outputs": [],
   "source": [
    "# Pydanticモデルも型として使える\n",
    "\n",
    "from typing import List \n",
    "\n",
    "class StatusCode(BaseModel):\n",
    "    id : int \n",
    "    code: int \n",
    "    message: str \n",
    "    # cats フィールドには Cat 型のデータをリストで持つ定義とする。デフォルト値は空リスト\n",
    "    cats: List[Cat] = [] \n",
    "    \n",
    "    "
   ]
  },
  {
   "cell_type": "code",
   "execution_count": 17,
   "metadata": {},
   "outputs": [],
   "source": [
    "new_status_1 = {\n",
    "    \"id\":1, \n",
    "    \"code\": 404,\n",
    "    \"message\": \"Not Found\"\n",
    "}\n",
    "\n",
    "new_status_2 = {\n",
    "    \"id\":2, \n",
    "    \"code\": 200,\n",
    "    \"message\": \"OK\",\n",
    "    \"cats\": [cat_1, cat_2]\n",
    "}\n",
    "\n",
    "status_1 = StatusCode(**new_status_1)\n",
    "status_2 = StatusCode(**new_status_2)"
   ]
  },
  {
   "cell_type": "code",
   "execution_count": 18,
   "metadata": {},
   "outputs": [
    {
     "data": {
      "text/plain": [
       "{'id': 1, 'code': 404, 'message': 'Not Found', 'cats': []}"
      ]
     },
     "execution_count": 18,
     "metadata": {},
     "output_type": "execute_result"
    }
   ],
   "source": [
    "status_1.dict()"
   ]
  },
  {
   "cell_type": "code",
   "execution_count": 19,
   "metadata": {},
   "outputs": [
    {
     "data": {
      "text/plain": [
       "{'id': 2,\n",
       " 'code': 200,\n",
       " 'message': 'OK',\n",
       " 'cats': [{'id': 1,\n",
       "   'message': 'やったね',\n",
       "   'code': 200,\n",
       "   'filepath': HttpUrl('https://3.bp.blogspot.com/-IzBBa1iaxGc/XLQNJ_ysffI/AAAAAAABSbw/hgX31eDYY6QX5btrmZTNuMDm9JQL8B1ygCLcBGAs/s180-c/uchidenokoduchi_eto13_neko.png', scheme='https', host='3.bp.blogspot.com', tld='com', host_type='domain', port='443', path='/-IzBBa1iaxGc/XLQNJ_ysffI/AAAAAAABSbw/hgX31eDYY6QX5btrmZTNuMDm9JQL8B1ygCLcBGAs/s180-c/uchidenokoduchi_eto13_neko.png')},\n",
       "  {'id': 2,\n",
       "   'message': 'てへぺろ',\n",
       "   'code': 404,\n",
       "   'filepath': HttpUrl('https://1.bp.blogspot.com/-d2MVqvUmxM0/V4SBCnW0-_I/AAAAAAAA8Qk/PZx69vFKAVgiAAOZzbeBWQC2erUmRdKoACLcB/s180-c/pet_tehe_cat.png', scheme='https', host='1.bp.blogspot.com', tld='com', host_type='domain', port='443', path='/-d2MVqvUmxM0/V4SBCnW0-_I/AAAAAAAA8Qk/PZx69vFKAVgiAAOZzbeBWQC2erUmRdKoACLcB/s180-c/pet_tehe_cat.png')}]}"
      ]
     },
     "execution_count": 19,
     "metadata": {},
     "output_type": "execute_result"
    }
   ],
   "source": [
    "status_2.dict()"
   ]
  },
  {
   "cell_type": "markdown",
   "metadata": {},
   "source": [
    "### 既存のモデルを継承して使う\n",
    "\n",
    "- ベースとなるモデルを作成しを継承する\n",
    "- 同じデータでも、返すデータを変えたい場合\n",
    "    例： StatusCode テーブルにデータを入れたい場合、`id` は含まないデータを insert する。しかし、Selectしたデータには id が付与されている。"
   ]
  },
  {
   "cell_type": "code",
   "execution_count": 20,
   "metadata": {},
   "outputs": [],
   "source": [
    "from typing import Optional\n",
    "\n",
    "class BaseStatusCode(BaseModel):\n",
    "    code: int \n",
    "    message: str \n",
    "\n",
    "class StatusCode(BaseStatusCode):\n",
    "    id: int\n",
    "    cats: List[Cat] = [] \n",
    "\n"
   ]
  },
  {
   "cell_type": "code",
   "execution_count": 21,
   "metadata": {},
   "outputs": [
    {
     "data": {
      "text/plain": [
       "BaseStatusCode(code=404, message='Not Found')"
      ]
     },
     "execution_count": 21,
     "metadata": {},
     "output_type": "execute_result"
    }
   ],
   "source": [
    "new_status_1 = {\n",
    "    \"id\":1, \n",
    "    \"code\": 404,\n",
    "    \"message\": \"Not Found\"\n",
    "}\n",
    "\n",
    "# このデータで db へ insert \n",
    "BaseStatusCode(**new_status_1)"
   ]
  },
  {
   "cell_type": "code",
   "execution_count": 22,
   "metadata": {},
   "outputs": [
    {
     "data": {
      "text/plain": [
       "StatusCode(code=404, message='Not Found', id=1, cats=[])"
      ]
     },
     "execution_count": 22,
     "metadata": {},
     "output_type": "execute_result"
    }
   ],
   "source": [
    "# db から fetch したデータはこの型へ流す\n",
    "StatusCode(**new_status_1)\n"
   ]
  },
  {
   "cell_type": "markdown",
   "metadata": {},
   "source": [
    "### `orm_mode = True`\n",
    "\n",
    "- pydantic モデルへデータを流し込むには、モデルオブジェクトを作成するか、辞書で渡すか\n",
    "- sqlalchemy 等の ORM データモデルのデータオブジェクトを扱うためには <font color=red>**必ず `orm_mode = True` 設定が必要**</font>"
   ]
  },
  {
   "cell_type": "code",
   "execution_count": 26,
   "metadata": {},
   "outputs": [],
   "source": [
    "# DataBase \n",
    "\n",
    "from sqlalchemy import create_engine\n",
    "from sqlalchemy.ext.declarative import declarative_base\n",
    "from sqlalchemy.orm import sessionmaker\n",
    "from sqlalchemy import Column, String, Integer, ForeignKey\n",
    "from sqlalchemy.orm import relationship\n",
    "\n",
    "\n",
    "DBFILE = \"sqlite:///./SQLtest.db\"\n",
    "engine = create_engine(DBFILE, echo=True, connect_args={\"check_same_thread\": False})\n",
    "\n",
    "\n",
    "SessionLocal = sessionmaker(\n",
    "    bind=engine,\n",
    "    autocommit=False,\n",
    "    autoflush=False,\n",
    ")\n",
    "\n",
    "Base = declarative_base()\n",
    "\n",
    "\n",
    "class TableStatusCode(Base):\n",
    "    __tablename__ = \"statuscodes\"\n",
    "    id = Column(Integer, primary_key=True, index=True)\n",
    "    code = Column(Integer, unique=True)\n",
    "    message = Column(String)\n",
    "\n",
    "    cats = relationship(\"TableCat\", back_populates=\"statuscode\")\n",
    "\n",
    "\n",
    "class TableCat(Base):\n",
    "    __tablename__ = \"cats\"\n",
    "    id = Column(Integer, primary_key=True, index=True)\n",
    "    filepath = Column(String)\n",
    "    message = Column(String)\n",
    "    code = Column(Integer, ForeignKey(\"statuscodes.code\"))\n",
    "\n",
    "    statuscode = relationship(\"TableStatusCode\", back_populates=\"cats\")"
   ]
  },
  {
   "cell_type": "code",
   "execution_count": 27,
   "metadata": {},
   "outputs": [],
   "source": [
    "db = SessionLocal()"
   ]
  },
  {
   "cell_type": "code",
   "execution_count": 28,
   "metadata": {},
   "outputs": [
    {
     "name": "stdout",
     "output_type": "stream",
     "text": [
      "2022-07-24 08:47:57,328 INFO sqlalchemy.engine.Engine BEGIN (implicit)\n",
      "2022-07-24 08:47:57,331 INFO sqlalchemy.engine.Engine SELECT cats.id AS cats_id, cats.filepath AS cats_filepath, cats.message AS cats_message, cats.code AS cats_code \n",
      "FROM cats\n",
      " LIMIT ? OFFSET ?\n",
      "2022-07-24 08:47:57,332 INFO sqlalchemy.engine.Engine [generated in 0.00108s] (1, 0)\n"
     ]
    },
    {
     "data": {
      "text/plain": [
       "<__main__.TableCat at 0x7fb076fcc8b0>"
      ]
     },
     "execution_count": 28,
     "metadata": {},
     "output_type": "execute_result"
    }
   ],
   "source": [
    "cat_from_db = db.query(TableCat).first()\n",
    "cat_from_db"
   ]
  },
  {
   "cell_type": "code",
   "execution_count": 33,
   "metadata": {},
   "outputs": [
    {
     "ename": "TypeError",
     "evalue": "__init__() takes exactly 1 positional argument (2 given)",
     "output_type": "error",
     "traceback": [
      "\u001b[0;31m---------------------------------------------------------------------------\u001b[0m",
      "\u001b[0;31mTypeError\u001b[0m                                 Traceback (most recent call last)",
      "\u001b[1;32mセル29 を /home/shinseitaro/workspace/github/finpy/HTTP-CAT/http-status-cats-clone-backend/lerning_centre/pydantic.ipynb\u001b[0m in \u001b[0;36m<cell line: 7>\u001b[0;34m()\u001b[0m\n\u001b[1;32m      <a href='vscode-notebook-cell:/home/shinseitaro/workspace/github/finpy/HTTP-CAT/http-status-cats-clone-backend/lerning_centre/pydantic.ipynb#ch0000028?line=3'>4</a>\u001b[0m     code: \u001b[39mint\u001b[39m \n\u001b[1;32m      <a href='vscode-notebook-cell:/home/shinseitaro/workspace/github/finpy/HTTP-CAT/http-status-cats-clone-backend/lerning_centre/pydantic.ipynb#ch0000028?line=4'>5</a>\u001b[0m     filepath: HttpUrl\n\u001b[0;32m----> <a href='vscode-notebook-cell:/home/shinseitaro/workspace/github/finpy/HTTP-CAT/http-status-cats-clone-backend/lerning_centre/pydantic.ipynb#ch0000028?line=6'>7</a>\u001b[0m Cat(cat_from_db)\n",
      "File \u001b[0;32m~/workspace/github/finpy/HTTP-CAT/http-status-cats-clone-backend/.venv/lib/python3.8/site-packages/pydantic/main.py:332\u001b[0m, in \u001b[0;36mpydantic.main.BaseModel.__init__\u001b[0;34m()\u001b[0m\n",
      "\u001b[0;31mTypeError\u001b[0m: __init__() takes exactly 1 positional argument (2 given)"
     ]
    }
   ],
   "source": [
    "class Cat(BaseModel): \n",
    "    id : int\n",
    "    message: str \n",
    "    code: int \n",
    "    filepath: HttpUrl\n",
    "        \n",
    "Cat(cat_from_db)\n"
   ]
  },
  {
   "cell_type": "code",
   "execution_count": 38,
   "metadata": {},
   "outputs": [
    {
     "name": "stdout",
     "output_type": "stream",
     "text": [
      "id=1 message='やったね' code=200 filepath=HttpUrl('https://3.bp.blogspot.com/-IzBBa1iaxGc/XLQNJ_ysffI/AAAAAAABSbw/hgX31eDYY6QX5btrmZTNuMDm9JQL8B1ygCLcBGAs/s180-c/uchidenokoduchi_eto13_neko.png', scheme='https', host='3.bp.blogspot.com', tld='com', host_type='domain', port='443', path='/-IzBBa1iaxGc/XLQNJ_ysffI/AAAAAAABSbw/hgX31eDYY6QX5btrmZTNuMDm9JQL8B1ygCLcBGAs/s180-c/uchidenokoduchi_eto13_neko.png')\n"
     ]
    }
   ],
   "source": [
    "class Cat(BaseModel): \n",
    "    id : int\n",
    "    message: str \n",
    "    code: int \n",
    "    filepath: HttpUrl\n",
    "\n",
    "    class Config:\n",
    "        orm_mode = True\n",
    "\n",
    "\n",
    "print(Cat.from_orm(cat_from_db))"
   ]
  },
  {
   "cell_type": "code",
   "execution_count": 44,
   "metadata": {},
   "outputs": [
    {
     "name": "stdout",
     "output_type": "stream",
     "text": [
      "2022-07-24 09:09:36,856 INFO sqlalchemy.engine.Engine SELECT statuscodes.id AS statuscodes_id, statuscodes.code AS statuscodes_code, statuscodes.message AS statuscodes_message \n",
      "FROM statuscodes \n",
      "WHERE statuscodes.id = ?\n",
      "2022-07-24 09:09:36,859 INFO sqlalchemy.engine.Engine [generated in 0.00338s] (2,)\n",
      "2022-07-24 09:09:36,862 INFO sqlalchemy.engine.Engine SELECT cats.id AS cats_id, cats.filepath AS cats_filepath, cats.message AS cats_message, cats.code AS cats_code \n",
      "FROM cats \n",
      "WHERE ? = cats.code\n",
      "2022-07-24 09:09:36,863 INFO sqlalchemy.engine.Engine [cached since 1115s ago] (200,)\n"
     ]
    },
    {
     "data": {
      "text/plain": [
       "StatusCode(id=2, code=200, message='OK', cats=[Cat(id=1, message='やったね', code=200, filepath=HttpUrl('https://3.bp.blogspot.com/-IzBBa1iaxGc/XLQNJ_ysffI/AAAAAAABSbw/hgX31eDYY6QX5btrmZTNuMDm9JQL8B1ygCLcBGAs/s180-c/uchidenokoduchi_eto13_neko.png', scheme='https', host='3.bp.blogspot.com', tld='com', host_type='domain', port='443', path='/-IzBBa1iaxGc/XLQNJ_ysffI/AAAAAAABSbw/hgX31eDYY6QX5btrmZTNuMDm9JQL8B1ygCLcBGAs/s180-c/uchidenokoduchi_eto13_neko.png')), Cat(id=3, message='追加の200番キャットです', code=200, filepath=HttpUrl('http://2.bp.blogspot.com/-5RqOJ4QvbXo/VEETRWSWxKI/AAAAAAAAocY/OAMZmQl4DPA/s180-c/cat_matatabi.png', scheme='http', host='2.bp.blogspot.com', tld='com', host_type='domain', port='80', path='/-5RqOJ4QvbXo/VEETRWSWxKI/AAAAAAAAocY/OAMZmQl4DPA/s180-c/cat_matatabi.png'))])"
      ]
     },
     "execution_count": 44,
     "metadata": {},
     "output_type": "execute_result"
    }
   ],
   "source": [
    "class StatusCode(BaseModel):\n",
    "    id : int \n",
    "    code: int \n",
    "    message: str \n",
    "    # cats フィールドには Cat 型のデータをリストで持つ定義とする。デフォルト値は空リスト\n",
    "    cats: List[Cat] = [] \n",
    "\n",
    "    class Config:\n",
    "        orm_mode = True\n",
    "   \n",
    "status_from_db = db.query(TableStatusCode).get(2)\n",
    "StatusCode.from_orm(status_from_db)"
   ]
  },
  {
   "cell_type": "code",
   "execution_count": 45,
   "metadata": {},
   "outputs": [
    {
     "data": {
      "text/plain": [
       "[Cat(id=1, message='やったね', code=200, filepath=HttpUrl('https://3.bp.blogspot.com/-IzBBa1iaxGc/XLQNJ_ysffI/AAAAAAABSbw/hgX31eDYY6QX5btrmZTNuMDm9JQL8B1ygCLcBGAs/s180-c/uchidenokoduchi_eto13_neko.png', scheme='https', host='3.bp.blogspot.com', tld='com', host_type='domain', port='443', path='/-IzBBa1iaxGc/XLQNJ_ysffI/AAAAAAABSbw/hgX31eDYY6QX5btrmZTNuMDm9JQL8B1ygCLcBGAs/s180-c/uchidenokoduchi_eto13_neko.png')),\n",
       " Cat(id=3, message='追加の200番キャットです', code=200, filepath=HttpUrl('http://2.bp.blogspot.com/-5RqOJ4QvbXo/VEETRWSWxKI/AAAAAAAAocY/OAMZmQl4DPA/s180-c/cat_matatabi.png', scheme='http', host='2.bp.blogspot.com', tld='com', host_type='domain', port='80', path='/-5RqOJ4QvbXo/VEETRWSWxKI/AAAAAAAAocY/OAMZmQl4DPA/s180-c/cat_matatabi.png'))]"
      ]
     },
     "execution_count": 45,
     "metadata": {},
     "output_type": "execute_result"
    }
   ],
   "source": [
    "StatusCode.from_orm(status_from_db).cats"
   ]
  },
  {
   "cell_type": "code",
   "execution_count": null,
   "metadata": {},
   "outputs": [],
   "source": []
  }
 ],
 "metadata": {
  "kernelspec": {
   "display_name": "Python 3.8.12 ('.venv': venv)",
   "language": "python",
   "name": "python3"
  },
  "language_info": {
   "codemirror_mode": {
    "name": "ipython",
    "version": 3
   },
   "file_extension": ".py",
   "mimetype": "text/x-python",
   "name": "python",
   "nbconvert_exporter": "python",
   "pygments_lexer": "ipython3",
   "version": "3.8.12"
  },
  "orig_nbformat": 4,
  "vscode": {
   "interpreter": {
    "hash": "326ce37cbee0f4caceba1ebcfd1b7fb063e35b66521e5ed874c2589849fc8bd4"
   }
  }
 },
 "nbformat": 4,
 "nbformat_minor": 2
}
