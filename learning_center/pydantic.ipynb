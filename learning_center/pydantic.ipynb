{
 "cells": [
  {
   "cell_type": "markdown",
   "metadata": {},
   "source": [
    "### Pydantic とは\n",
    "\n",
    "- python 3.6 から、「型アノテーション」という機能が追加されました。\n",
    "- この 型アノテーション を利用して、型ヒントの提供や、型の確認や検証を行ってくれる機能などを提供してくれるのが [pydantic](https://pydantic-docs.helpmanual.io/) です。\n",
    "- 今年の pycon でも pydantic について触れるプロポーザルが採用されていました。結構アツいライブラリみたいです。\n"
   ]
  },
  {
   "cell_type": "markdown",
   "metadata": {},
   "source": [
    "#### python の型アノテーション\n",
    "- 関数定義や変数作成時に、 `: 型` を追記\n",
    "- editor によっては、コードを記述したタイミングで間違いを指摘してくれる"
   ]
  },
  {
   "cell_type": "code",
   "execution_count": null,
   "metadata": {},
   "outputs": [],
   "source": [
    "name1 = \"taro\"\n",
    "name2 : str = \"taro\""
   ]
  },
  {
   "cell_type": "code",
   "execution_count": null,
   "metadata": {},
   "outputs": [],
   "source": [
    "def add(a, b):\n",
    "    return a + b\n",
    "\n",
    "def add_type(a: int, b: int) -> int:\n",
    "    return a + b\n"
   ]
  },
  {
   "cell_type": "code",
   "execution_count": null,
   "metadata": {},
   "outputs": [],
   "source": [
    "add('1', '2')\n",
    "# 実行する前から引数の型がおかしいことを指摘\n",
    "add_type('1', '2')"
   ]
  },
  {
   "cell_type": "markdown",
   "metadata": {},
   "source": [
    "### Pydantic \n",
    "\n",
    "1. `BaseModel` を継承して、pydantic モデルクラスを作成\n",
    "    - `フィールド名: 型` で定義\n",
    "    - 型は `typing` や pydanticが独自に定義している型を使う \n",
    "    - [typing Python 3.10.4 ドキュメント](https://docs.python.org/ja/3/library/typing.html)\n",
    "    - [Field Types - pydantic](https://pydantic-docs.helpmanual.io/usage/types/#pydantic-types)\n",
    "1. このクラスにデータを入れてオブジェクト化して使う\n",
    "\n",
    "### FastApi で Pydantic を使うのは\n",
    "1. request body を作る時\n",
    "1. response データの表示方法を変えたい時\n"
   ]
  },
  {
   "cell_type": "code",
   "execution_count": null,
   "metadata": {},
   "outputs": [],
   "source": [
    "%load_ext blackcellmagic"
   ]
  },
  {
   "cell_type": "code",
   "execution_count": null,
   "metadata": {},
   "outputs": [],
   "source": [
    "# BaseModel を import\n",
    "from pydantic import BaseModel\n"
   ]
  },
  {
   "cell_type": "code",
   "execution_count": null,
   "metadata": {},
   "outputs": [],
   "source": [
    "from pydantic import HttpUrl\n",
    "\n",
    "class Cat(BaseModel): # 継承\n",
    "    id : int\n",
    "    message: str \n",
    "    code: int \n",
    "    filepath: HttpUrl\n"
   ]
  },
  {
   "cell_type": "code",
   "execution_count": null,
   "metadata": {},
   "outputs": [],
   "source": [
    "# データを入れて pydantic オブジェクトを作成\n",
    "cat_1 = Cat(\n",
    "    id=1,\n",
    "    message=\"やったね\",\n",
    "    code=200,\n",
    "    filepath=\"https://3.bp.blogspot.com/-IzBBa1iaxGc/XLQNJ_ysffI/AAAAAAABSbw/hgX31eDYY6QX5btrmZTNuMDm9JQL8B1ygCLcBGAs/s180-c/uchidenokoduchi_eto13_neko.png\",\n",
    ")\n",
    "\n",
    "# 辞書渡しでもOK。\n",
    "d = {\n",
    "    \"id\": 2,\n",
    "    \"message\": \"てへぺろ\",\n",
    "    \"code\": 404,\n",
    "    \"filepath\": \"https://1.bp.blogspot.com/-d2MVqvUmxM0/V4SBCnW0-_I/AAAAAAAA8Qk/PZx69vFKAVgiAAOZzbeBWQC2erUmRdKoACLcB/s180-c/pet_tehe_cat.png\",\n",
    "}\n",
    "cat_2 = Cat(**d)"
   ]
  },
  {
   "cell_type": "code",
   "execution_count": null,
   "metadata": {},
   "outputs": [],
   "source": [
    "# 便利なメソッドがたくさん用意されている\n",
    "print(dir(cat_1))"
   ]
  },
  {
   "cell_type": "code",
   "execution_count": null,
   "metadata": {},
   "outputs": [],
   "source": [
    "# データへアクセス\n",
    "cat_1.message"
   ]
  },
  {
   "cell_type": "code",
   "execution_count": null,
   "metadata": {},
   "outputs": [],
   "source": [
    "cat_2.dict()"
   ]
  },
  {
   "cell_type": "code",
   "execution_count": null,
   "metadata": {},
   "outputs": [],
   "source": [
    "cat_2.json()"
   ]
  },
  {
   "cell_type": "code",
   "execution_count": null,
   "metadata": {},
   "outputs": [],
   "source": [
    "# 型チェック。フレンドリーな例外を返してくれる\n",
    "d = {\n",
    "    \"id\": 2,\n",
    "    \"message\": \"てへぺろ\",\n",
    "    \"code\": 404,\n",
    "    \"filepath\": \"file.png\",\n",
    "}\n",
    "Cat(**d)"
   ]
  },
  {
   "cell_type": "code",
   "execution_count": null,
   "metadata": {},
   "outputs": [],
   "source": [
    "# ValidationError クラスを使うと、例外を json で取得可\n",
    "from pydantic import ValidationError\n",
    "try:\n",
    "    Cat(**d)\n",
    "except ValidationError as e:\n",
    "    print(e.json())"
   ]
  },
  {
   "cell_type": "code",
   "execution_count": null,
   "metadata": {},
   "outputs": [],
   "source": [
    "# Pydanticモデルも型として使える\n",
    "\n",
    "from typing import List \n",
    "\n",
    "class StatusCode(BaseModel):\n",
    "    id : int \n",
    "    code: int \n",
    "    message: str \n",
    "    # cats フィールドには Cat 型のデータをリストで持つ定義とする。デフォルト値は空リスト\n",
    "    cats: List[Cat] = [] \n",
    "    \n",
    "    "
   ]
  },
  {
   "cell_type": "code",
   "execution_count": null,
   "metadata": {},
   "outputs": [],
   "source": [
    "new_status_1 = {\n",
    "    \"id\":1, \n",
    "    \"code\": 404,\n",
    "    \"message\": \"Not Found\"\n",
    "}\n",
    "\n",
    "new_status_2 = {\n",
    "    \"id\":2, \n",
    "    \"code\": 200,\n",
    "    \"message\": \"OK\",\n",
    "    \"cats\": [cat_1, cat_2]\n",
    "}\n",
    "\n",
    "status_1 = StatusCode(**new_status_1)\n",
    "status_2 = StatusCode(**new_status_2)"
   ]
  },
  {
   "cell_type": "code",
   "execution_count": null,
   "metadata": {},
   "outputs": [],
   "source": [
    "status_1.dict()"
   ]
  },
  {
   "cell_type": "code",
   "execution_count": null,
   "metadata": {},
   "outputs": [],
   "source": [
    "status_2.dict()"
   ]
  },
  {
   "cell_type": "markdown",
   "metadata": {},
   "source": [
    "### 既存のモデルを継承して使う\n",
    "\n",
    "- ベースとなるモデルを作成しを継承する\n"
   ]
  },
  {
   "cell_type": "code",
   "execution_count": null,
   "metadata": {},
   "outputs": [],
   "source": [
    "\n",
    "class BaseStatusCode(BaseModel):\n",
    "    code: int \n",
    "    message: str \n",
    "\n",
    "class StatusCode(BaseStatusCode):\n",
    "    id: int\n",
    "    cats: List[Cat] = [] \n",
    "\n"
   ]
  },
  {
   "cell_type": "markdown",
   "metadata": {},
   "source": [
    "### `orm_mode = True`\n",
    "\n",
    "- pydantic モデルへデータを流し込むには、通常モデルオブジェクトを作成するか、辞書で渡す。\n",
    "- sqlalchemy 等の ORM データモデルのデータオブジェクトを扱うためには <font color=red>**必ず `orm_mode = True` 設定が必要**</font>"
   ]
  },
  {
   "cell_type": "code",
   "execution_count": null,
   "metadata": {},
   "outputs": [],
   "source": [
    "# DataBase \n",
    "\n",
    "from sqlalchemy import create_engine\n",
    "from sqlalchemy.ext.declarative import declarative_base\n",
    "from sqlalchemy.orm import sessionmaker\n",
    "from sqlalchemy import Column, String, Integer, ForeignKey\n",
    "from sqlalchemy.orm import relationship\n",
    "\n",
    "\n",
    "DBFILE = \"sqlite:///./SQLtest.db\"\n",
    "engine = create_engine(DBFILE, echo=True, connect_args={\"check_same_thread\": False})\n",
    "\n",
    "\n",
    "SessionLocal = sessionmaker(\n",
    "    bind=engine,\n",
    "    autocommit=False,\n",
    "    autoflush=False,\n",
    ")\n",
    "\n",
    "Base = declarative_base()\n",
    "\n",
    "\n",
    "class TableStatusCode(Base):\n",
    "    __tablename__ = \"statuscodes\"\n",
    "    id = Column(Integer, primary_key=True, index=True)\n",
    "    code = Column(Integer, unique=True)\n",
    "    message = Column(String)"
   ]
  },
  {
   "cell_type": "code",
   "execution_count": null,
   "metadata": {},
   "outputs": [],
   "source": [
    "# テストデータベースを作り、テストデータをInsertする\n",
    "Base.metadata.create_all(bind=engine)\n",
    "db = SessionLocal()\n",
    "db.add(TableStatusCode(code=404, message=\"Not Found\"))\n",
    "db.commit()\n"
   ]
  },
  {
   "cell_type": "code",
   "execution_count": null,
   "metadata": {},
   "outputs": [],
   "source": [
    "# データの確認\n",
    "a_status = db.query(TableStatusCode).first()\n",
    "a_status"
   ]
  },
  {
   "cell_type": "code",
   "execution_count": null,
   "metadata": {},
   "outputs": [],
   "source": [
    "type(a_status)"
   ]
  },
  {
   "cell_type": "code",
   "execution_count": null,
   "metadata": {},
   "outputs": [],
   "source": [
    "# orm_mode = True 設定無しでPydanticモデルを作成すると、データを読み込まない\n",
    "class StatusCode(BaseModel):\n",
    "    id : int \n",
    "    code: int \n",
    "    message: str \n",
    "\n",
    "# from_orm : テーブルデータオブジェクトを読み込むメソッド\n",
    "print(StatusCode.from_orm(a_status))"
   ]
  },
  {
   "cell_type": "code",
   "execution_count": null,
   "metadata": {},
   "outputs": [],
   "source": [
    "# orm_mode = True 設定をつけて、テーブルデータオブジェクトもPydanticで扱えるように設定する\n",
    "class StatusCode(BaseModel):\n",
    "    # id : int \n",
    "    code: int \n",
    "    message: str \n",
    "\n",
    "    class Config:\n",
    "        orm_mode = True\n",
    "\n",
    "\n",
    "print(StatusCode.from_orm(a_status))"
   ]
  },
  {
   "cell_type": "code",
   "execution_count": null,
   "metadata": {},
   "outputs": [],
   "source": [
    "db.close()"
   ]
  }
 ],
 "metadata": {
  "kernelspec": {
   "display_name": "Python 3.9.7 ('.venv': venv)",
   "language": "python",
   "name": "python3"
  },
  "language_info": {
   "codemirror_mode": {
    "name": "ipython",
    "version": 3
   },
   "file_extension": ".py",
   "mimetype": "text/x-python",
   "name": "python",
   "nbconvert_exporter": "python",
   "pygments_lexer": "ipython3",
   "version": "3.9.7"
  },
  "orig_nbformat": 4,
  "vscode": {
   "interpreter": {
    "hash": "a8bd48114c15e1215eaa195b87f5778b7489997a57ad37ddc76a27b48b5416fa"
   }
  }
 },
 "nbformat": 4,
 "nbformat_minor": 2
}
